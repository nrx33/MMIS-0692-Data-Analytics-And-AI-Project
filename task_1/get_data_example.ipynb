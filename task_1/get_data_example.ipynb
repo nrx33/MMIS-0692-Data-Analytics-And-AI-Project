{
  "cells": [
    {
      "cell_type": "markdown",
      "metadata": {
        "id": "Zv49vfiCuFvO"
      },
      "source": [
        "# MMIS692: Get data from zipped CSV files\n",
        "\n",
        "In this notebook we shall:\n",
        "1. Extract *CSV* files from *zip* file with project data.\n",
        "2. Read data from each file into a *pandas* dataframe and record the number of rows and columns in the dataframe.\n"
      ]
    },
    {
      "cell_type": "markdown",
      "metadata": {
        "id": "DrdmnSDw94IR"
      },
      "source": [
        "## Extract *CSV* files from *zip* file\n",
        "We use the command **\"! unzip \\<*file_path*>\"**  to extract files. \n",
        "- \"**!**\" allows us to run *shell* commands in a *Colab* code cell.\n",
        "- In this example I extract the *CSV* files with sample data from **data.MMIS692.Sample.zip** that resides in a directory on my *Google* drive. \n",
        "- You will need to specify **\\<*file_path*>** to your *zip* file with the project data. \n",
        "- I recommend that you upload the *zip* file to a directory on your *Google* drive, use the *Colab* file browser to mount your *Google* drive, navigate to the file, and copy the file path.\n",
        "\n"
      ]
    },
    {
      "cell_type": "code",
      "execution_count": 1,
      "metadata": {
        "colab": {
          "base_uri": "https://localhost:8080/"
        },
        "id": "W_3uL4SO_BuJ",
        "outputId": "6f28ec2b-f1ab-4f59-f386-3255343c11fc"
      },
      "outputs": [
        {
          "name": "stdout",
          "output_type": "stream",
          "text": [
            "Archive:  /content/drive/MyDrive/Colab Notebooks/courses/MMIS692_Summer2021/data.MMIS692.Sample.zip\n",
            "  inflating: customer_segmentation.train.csv  \n",
            "  inflating: customer_segmentation.unlabeled.csv  \n",
            "  inflating: customer_segmentation.valid.csv  \n",
            "  inflating: production_planning.product.csv  \n",
            "  inflating: production_planning.resource.csv  \n",
            "  inflating: quality_control.defective.csv  \n",
            "  inflating: quality_control.measurements.csv  \n",
            "  inflating: quality_control.new_batches.csv  \n"
          ]
        }
      ],
      "source": [
        "# ! unzip '/content/drive/MyDrive/Colab Notebooks/courses/MMIS692_Summer2021/data.MMIS692.Sample.zip'"
      ]
    },
    {
      "cell_type": "markdown",
      "metadata": {
        "id": "RitutPaNuQcG"
      },
      "source": [
        "## Import *pandas*\n",
        "We shall use *pandas* (https://pandas.pydata.org/) for data handling and data analysis."
      ]
    },
    {
      "cell_type": "code",
      "execution_count": 1,
      "metadata": {
        "id": "ABXvxoqNcKnG"
      },
      "outputs": [],
      "source": [
        "import pandas as pd"
      ]
    },
    {
      "cell_type": "markdown",
      "metadata": {
        "id": "rexKDNgSudAT"
      },
      "source": [
        "## Specify file names\n",
        "Specify a list with the name of the CSV files with project data.\n",
        "These files now reside in your working directory."
      ]
    },
    {
      "cell_type": "code",
      "execution_count": 7,
      "metadata": {
        "id": "TJBldOYcjXAs"
      },
      "outputs": [],
      "source": [
        "FILELIST = ['sample_data/production_planning.product.csv',\n",
        "            'sample_data/production_planning.resource.csv',\n",
        "            'sample_data/quality_control.defective.csv',\n",
        "            'sample_data/quality_control.measurements.csv',\n",
        "            'sample_data/quality_control.new_batches.csv',\n",
        "            'sample_data/customer_segmentation.train.csv',\n",
        "            'sample_data/customer_segmentation.valid.csv',\n",
        "            'sample_data/customer_segmentation.unlabeled.csv']"
      ]
    },
    {
      "cell_type": "markdown",
      "metadata": {
        "id": "bW0WkCSdummM"
      },
      "source": [
        "## Read *CSV* files\n",
        "We shall read each file from FILELIST into a pandas dataframe and record the number of rows and columns in the dataframe . "
      ]
    },
    {
      "cell_type": "code",
      "execution_count": 8,
      "metadata": {
        "colab": {
          "base_uri": "https://localhost:8080/",
          "height": 284
        },
        "id": "pv24p1-PeE3k",
        "outputId": "0bef2191-f4d8-4e9f-88cb-063a4d6a014e"
      },
      "outputs": [
        {
          "data": {
            "text/html": [
              "<div>\n",
              "<style scoped>\n",
              "    .dataframe tbody tr th:only-of-type {\n",
              "        vertical-align: middle;\n",
              "    }\n",
              "\n",
              "    .dataframe tbody tr th {\n",
              "        vertical-align: top;\n",
              "    }\n",
              "\n",
              "    .dataframe thead th {\n",
              "        text-align: right;\n",
              "    }\n",
              "</style>\n",
              "<table border=\"1\" class=\"dataframe\">\n",
              "  <thead>\n",
              "    <tr style=\"text-align: right;\">\n",
              "      <th></th>\n",
              "      <th>filename</th>\n",
              "      <th>number of rows</th>\n",
              "      <th>number of columns</th>\n",
              "    </tr>\n",
              "  </thead>\n",
              "  <tbody>\n",
              "    <tr>\n",
              "      <th>0</th>\n",
              "      <td>sample_data/production_planning.product.csv</td>\n",
              "      <td>6</td>\n",
              "      <td>6</td>\n",
              "    </tr>\n",
              "    <tr>\n",
              "      <th>1</th>\n",
              "      <td>sample_data/production_planning.resource.csv</td>\n",
              "      <td>3</td>\n",
              "      <td>3</td>\n",
              "    </tr>\n",
              "    <tr>\n",
              "      <th>2</th>\n",
              "      <td>sample_data/quality_control.defective.csv</td>\n",
              "      <td>12476</td>\n",
              "      <td>2</td>\n",
              "    </tr>\n",
              "    <tr>\n",
              "      <th>3</th>\n",
              "      <td>sample_data/quality_control.measurements.csv</td>\n",
              "      <td>5000</td>\n",
              "      <td>31</td>\n",
              "    </tr>\n",
              "    <tr>\n",
              "      <th>4</th>\n",
              "      <td>sample_data/quality_control.new_batches.csv</td>\n",
              "      <td>40</td>\n",
              "      <td>31</td>\n",
              "    </tr>\n",
              "    <tr>\n",
              "      <th>5</th>\n",
              "      <td>sample_data/customer_segmentation.train.csv</td>\n",
              "      <td>20000</td>\n",
              "      <td>51</td>\n",
              "    </tr>\n",
              "    <tr>\n",
              "      <th>6</th>\n",
              "      <td>sample_data/customer_segmentation.valid.csv</td>\n",
              "      <td>5000</td>\n",
              "      <td>51</td>\n",
              "    </tr>\n",
              "    <tr>\n",
              "      <th>7</th>\n",
              "      <td>sample_data/customer_segmentation.unlabeled.csv</td>\n",
              "      <td>60</td>\n",
              "      <td>51</td>\n",
              "    </tr>\n",
              "  </tbody>\n",
              "</table>\n",
              "</div>"
            ],
            "text/plain": [
              "                                          filename  number of rows  \\\n",
              "0      sample_data/production_planning.product.csv               6   \n",
              "1     sample_data/production_planning.resource.csv               3   \n",
              "2        sample_data/quality_control.defective.csv           12476   \n",
              "3     sample_data/quality_control.measurements.csv            5000   \n",
              "4      sample_data/quality_control.new_batches.csv              40   \n",
              "5      sample_data/customer_segmentation.train.csv           20000   \n",
              "6      sample_data/customer_segmentation.valid.csv            5000   \n",
              "7  sample_data/customer_segmentation.unlabeled.csv              60   \n",
              "\n",
              "   number of columns  \n",
              "0                  6  \n",
              "1                  3  \n",
              "2                  2  \n",
              "3                 31  \n",
              "4                 31  \n",
              "5                 51  \n",
              "6                 51  \n",
              "7                 51  "
            ]
          },
          "execution_count": 8,
          "metadata": {},
          "output_type": "execute_result"
        }
      ],
      "source": [
        "DIM = [] # list containing results (filename, number of rows, number of columns)\n",
        "\n",
        "# read files andrecord file dimensions \n",
        "for file_name in FILELIST: # for each file_name in FILELIST\n",
        "    df = pd.read_csv(file_name) # read data into dataframe df\n",
        "    r, c = df.shape # number of rows and columns in the dataframe\n",
        "    DIM.append([file_name, r, c]) # append file dimensions to DIM\n",
        "\n",
        "cols = ['filename', 'number of rows', 'number of columns'] # column headers\n",
        "dim_df = pd.DataFrame(DIM, columns=cols) # create dataframe with results\n",
        "dim_df.to_csv('FILE_DIMENSION.csv', index=False) # write results to CSV file\n",
        "dim_df # display results"
      ]
    }
  ],
  "metadata": {
    "colab": {
      "collapsed_sections": [],
      "name": "MMIS692_Get_Data_Example.ipynb",
      "provenance": []
    },
    "kernelspec": {
      "display_name": "Python 3",
      "name": "python3"
    },
    "language_info": {
      "codemirror_mode": {
        "name": "ipython",
        "version": 3
      },
      "file_extension": ".py",
      "mimetype": "text/x-python",
      "name": "python",
      "nbconvert_exporter": "python",
      "pygments_lexer": "ipython3",
      "version": "3.12.1"
    }
  },
  "nbformat": 4,
  "nbformat_minor": 0
}
